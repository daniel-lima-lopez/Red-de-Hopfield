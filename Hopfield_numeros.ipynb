{
  "nbformat": 4,
  "nbformat_minor": 0,
  "metadata": {
    "colab": {
      "provenance": [],
      "authorship_tag": "ABX9TyOmjncwc+R4NKsZFWIAZ/bp",
      "include_colab_link": true
    },
    "kernelspec": {
      "name": "python3",
      "display_name": "Python 3"
    },
    "language_info": {
      "name": "python"
    }
  },
  "cells": [
    {
      "cell_type": "markdown",
      "metadata": {
        "id": "view-in-github",
        "colab_type": "text"
      },
      "source": [
        "<a href=\"https://colab.research.google.com/github/daniel-lima-lopez/Red-de-Hopfield/blob/main/Hopfield_numeros.ipynb\" target=\"_parent\"><img src=\"https://colab.research.google.com/assets/colab-badge.svg\" alt=\"Open In Colab\"/></a>"
      ]
    },
    {
      "cell_type": "markdown",
      "source": [
        "# Diseño de una red de Hopfield general\n",
        "* Recibe una lista $t$ de patrones a recordar\n",
        "* Cada patron es una cadana de +1 y -1\n",
        "* El constructor de la clase se encaraga de calcular los pesos adecuados para la red\n",
        "* El metodo $evaluate(x)$ evalua a la entrada $x$ con la red creada y regresa los patrones generados en cada iteracion antes de converger"
      ],
      "metadata": {
        "id": "s9r2Kdg1vTFy"
      }
    },
    {
      "cell_type": "code",
      "execution_count": 1,
      "metadata": {
        "id": "UtggfTXbvGmh"
      },
      "outputs": [],
      "source": [
        "import numpy as np\n",
        "import matplotlib.pyplot as plt\n",
        "import cv2 as cv\n",
        "\n",
        "class Hoppfield:\n",
        "  def __init__(self, t):\n",
        "    self.patterns = t\n",
        "    self.n = len(t) # numero de patrones a aprender\n",
        "    self.dim = len(t[0]) # dimension del problema (dimension de cada patron)\n",
        "    \n",
        "    # ------------ CALCULO DE PESOS ------------\n",
        "    self.W = np.zeros(shape=(self.dim,self.dim))\n",
        "    for i in range(self.n):\n",
        "      v1 = np.reshape(t[i], (self.dim,1))\n",
        "      v2 = np.reshape(t[i], (1,self.dim))\n",
        "      self.W += np.matmul(v1,v2)\n",
        "\n",
        "    # eliminamos diagonal\n",
        "    for i in range(self.dim):\n",
        "      self.W[i,i] = 0.\n",
        "\n",
        "     \n",
        "\n",
        "    #print(self.W, self.net, self.out)\n",
        "\n",
        "  def euclideanD(self, x1, x2):\n",
        "        return np.sqrt(np.sum((x1-x2)**2))    \n",
        "\n",
        "  def evaluate(self, x):\n",
        "    x = np.reshape(x, (self.dim,))\n",
        "    self.net = np.zeros(shape=(1,self.dim)) \n",
        "    self.out = np.zeros(shape=(1,self.dim))  \n",
        "\n",
        "    it = 0\n",
        "    historic = []\n",
        "    while True:\n",
        "      if it==0: # primera iteracion\n",
        "        self.out = x.copy()\n",
        "      else:\n",
        "        ins = self.out.copy() # copiamos la salida k-esima\n",
        "        \n",
        "        # calculo de la salida k+1\n",
        "        self.net = np.matmul(ins, self.W) \n",
        "        #print('net: ', self.net)\n",
        "    \n",
        "        # funcion de activacion escalon\n",
        "        for i, ni in enumerate(self.net):\n",
        "          if ni >= 0:\n",
        "            self.out[i] = 1.\n",
        "          else:\n",
        "            self.out[i] = -1\n",
        "        \n",
        "        #print(self.out, ins)\n",
        "        if np.array_equal(self.out, ins): # si se repite con el de una o dos iteraciones atras\n",
        "          #print('iteracion: ', it, 'out: ', self.out)\n",
        "          historic.append(self.out.copy())\n",
        "          break\n",
        "      #print('iteracion: ', it, 'out: ', self.out)\n",
        "      historic.append(self.out.copy())\n",
        "      it += 1\n",
        "    # verificamos si el ultimo elemento es en realidad un patron ingresado\n",
        "    aux = False\n",
        "    for pi in self.patterns:\n",
        "      if np.array_equal(historic[-1], pi):\n",
        "        aux = True\n",
        "    # de no ser asi se reemplaza por el elemento mas cercano\n",
        "    if not aux:\n",
        "      distances = np.array([self.euclideanD(historic[-1], pi) for pi in self.patterns])\n",
        "      ni = np.argsort(distances)[0] # indice del mas cercanos\n",
        "      historic.append(self.patterns[ni])\n",
        "\n",
        "\n",
        "    return historic"
      ]
    },
    {
      "cell_type": "markdown",
      "source": [
        "## Metodos para manejar imagenes\n",
        "* $img\\_to\\_flat(img)$: toma la una imagen (matriz) binarizada (intensidades 0 y 255), y la convierte en una lista unidimensional con entradas +1 para intensidades 255 y -1 para intensidades 0.\n",
        "* $flat\\_to\\_img(flat)$: realiza el proceso inverso al metodo anterior, toma una lista de valores +1 y -1, y devuelve una imagen binarizada\n",
        "* $plot\\_historic(historic)$: muestra las imagenes obtenidas en cada iteracion previa a converger en la evaluacion de la red"
      ],
      "metadata": {
        "id": "kF0gwb97vbG_"
      }
    },
    {
      "cell_type": "code",
      "source": [
        "def img_to_flat(img): # considera imagenes cuadradas (dim, dim)\n",
        "  dim = len(img)\n",
        "  aux = []\n",
        "  for ri in range(len(img)):\n",
        "    for ci in range(len(img[0])):\n",
        "      if img[ri, ci, 0] == 0:\n",
        "        aux.append(-1.)\n",
        "      else:\n",
        "        aux.append(1.)\n",
        "  return np.array(aux)\n",
        "\n",
        "def flat_to_img(flat, r, c):\n",
        "  dim = int(np.sqrt(len(flat)))\n",
        "  img = np.zeros(shape=(r, c, 3), dtype=np.uint8)\n",
        "\n",
        "  i = 0\n",
        "  for ri in range(r):\n",
        "    for ci in range(c):\n",
        "      if flat[i] == 1.:\n",
        "        img[ri, ci] = [255,255,255]\n",
        "      i += 1\n",
        "  \n",
        "  return img\n",
        "\n",
        "def plot_historic(historic, r, c):\n",
        "  n = len(historic)\n",
        "\n",
        "  for i in range(n):\n",
        "    img = flat_to_img(historic[i], r, c)\n",
        "    auxp = plt.subplot(1,n,i+1)\n",
        "    auxp.get_xaxis().set_visible(False)\n",
        "    auxp.get_yaxis().set_visible(False)\n",
        "    auxp.imshow(cv.cvtColor(img, cv.COLOR_BGR2RGB))\n",
        "  \n",
        "  plt.show()"
      ],
      "metadata": {
        "id": "zH5xUIj6vd3v"
      },
      "execution_count": 2,
      "outputs": []
    },
    {
      "cell_type": "markdown",
      "source": [
        "## Procedimiento\n",
        "Se eligieron dos patrones a memorizar, los simbolos de un tablero de gato: $x$ y $o$"
      ],
      "metadata": {
        "id": "88wD5WW1vi6O"
      }
    },
    {
      "cell_type": "code",
      "source": [
        "imagenes = [cv.imread('train/0.png'), cv.imread('train/1.png'), cv.imread('train/2.png'), cv.imread('train/3.png'),\n",
        "            cv.imread('train/4.png'), cv.imread('train/6.png'), cv.imread('train/9.png'), cv.imread('train/d.png')]\n",
        "for i, img in enumerate(imagenes):\n",
        "  plt.subplot(2,4,i+1)\n",
        "  plt.imshow(cv.cvtColor(img, cv.COLOR_BGR2RGB))\n",
        "plt.show()"
      ],
      "metadata": {
        "colab": {
          "base_uri": "https://localhost:8080/",
          "height": 254
        },
        "id": "qIOBTayTvztB",
        "outputId": "b92d1116-d94c-4085-843b-4d6626748bd9"
      },
      "execution_count": 3,
      "outputs": [
        {
          "output_type": "display_data",
          "data": {
            "text/plain": [
              "<Figure size 432x288 with 8 Axes>"
            ],
            "image/png": "[encoded data removed]"
          },
          "metadata": {
            "needs_background": "light"
          }
        }
      ]
    },
    {
      "cell_type": "markdown",
      "source": [
        "Se declara una instancia de un Red de Hopfield con estos patrones. Note que estos patrones son ortogonales"
      ],
      "metadata": {
        "id": "ZRLu0nf8yG89"
      }
    },
    {
      "cell_type": "code",
      "source": [
        "patterns = [img_to_flat(img) for img in imagenes]\n",
        "NN = Hoppfield(patterns)\n",
        "\n",
        "for i in range(0,len(patterns)-1):\n",
        "  for j in range(i+1, len(patterns)):\n",
        "    aux = 0\n",
        "    for k in range(len(patterns[0])):\n",
        "      aux += patterns[i][k]*patterns[j][k]\n",
        "    print('dot (',i,',',j,'): ', aux)"
      ],
      "metadata": {
        "id": "j2Q-8kh6yHWs",
        "outputId": "b4011ad1-cad9-4c3e-cac3-58f8b65be21c",
        "colab": {
          "base_uri": "https://localhost:8080/"
        }
      },
      "execution_count": 4,
      "outputs": [
        {
          "output_type": "stream",
          "name": "stdout",
          "text": [
            "dot ( 0 , 1 ):  24.0\n",
            "dot ( 0 , 2 ):  -8.0\n",
            "dot ( 0 , 3 ):  4.0\n",
            "dot ( 0 , 4 ):  24.0\n",
            "dot ( 0 , 5 ):  -28.0\n",
            "dot ( 0 , 6 ):  -28.0\n",
            "dot ( 0 , 7 ):  4.0\n",
            "dot ( 1 , 2 ):  12.0\n",
            "dot ( 1 , 3 ):  20.0\n",
            "dot ( 1 , 4 ):  -36.0\n",
            "dot ( 1 , 5 ):  12.0\n",
            "dot ( 1 , 6 ):  12.0\n",
            "dot ( 1 , 7 ):  12.0\n",
            "dot ( 2 , 3 ):  48.0\n",
            "dot ( 2 , 4 ):  8.0\n",
            "dot ( 2 , 5 ):  60.0\n",
            "dot ( 2 , 6 ):  -12.0\n",
            "dot ( 2 , 7 ):  0.0\n",
            "dot ( 3 , 4 ):  48.0\n",
            "dot ( 3 , 5 ):  0.0\n",
            "dot ( 3 , 6 ):  48.0\n",
            "dot ( 3 , 7 ):  -4.0\n",
            "dot ( 4 , 5 ):  -12.0\n",
            "dot ( 4 , 6 ):  16.0\n",
            "dot ( 4 , 7 ):  24.0\n",
            "dot ( 5 , 6 ):  -48.0\n",
            "dot ( 5 , 7 ):  36.0\n",
            "dot ( 6 , 7 ):  -24.0\n"
          ]
        }
      ]
    },
    {
      "cell_type": "markdown",
      "source": [
        "Veamos que los patrones originales convergen cuando se ingresan a la red"
      ],
      "metadata": {
        "id": "frzfc_6w04q2"
      }
    },
    {
      "cell_type": "code",
      "source": [
        "test_img = [cv.imread('train/0.png'), cv.imread('train/1.png'), cv.imread('train/2.png'), cv.imread('train/3.png'),\n",
        "            cv.imread('train/4.png'), cv.imread('train/6.png'), cv.imread('train/9.png'), cv.imread('train/d.png')]\n",
        "test_flat = [img_to_flat(img) for img in test_img]\n",
        "historics = [NN.evaluate(fi) for fi in test_flat]\n",
        "\n",
        "for hi in historics:\n",
        "  plot_historic(hi,12, 10)"
      ],
      "metadata": {
        "id": "1bkUiQUL05CV",
        "outputId": "be5063c2-aa93-487b-8d3f-10954914a0a8",
        "colab": {
          "base_uri": "https://localhost:8080/",
          "height": 1000
        }
      },
      "execution_count": 5,
      "outputs": [
        {
          "output_type": "display_data",
          "data": {
            "text/plain": [
              "<Figure size 432x288 with 2 Axes>"
            ],
            "image/png": "[encoded data removed]"
          },
          "metadata": {
            "needs_background": "light"
          }
        },
        {
          "output_type": "display_data",
          "data": {
            "text/plain": [
              "<Figure size 432x288 with 2 Axes>"
            ],
            "image/png": "[encoded data removed]"
          },
          "metadata": {
            "needs_background": "light"
          }
        },
        {
          "output_type": "display_data",
          "data": {
            "text/plain": [
              "<Figure size 432x288 with 2 Axes>"
            ],
            "image/png": "[encoded data removed]"
          },
          "metadata": {
            "needs_background": "light"
          }
        },
        {
          "output_type": "display_data",
          "data": {
            "text/plain": [
              "<Figure size 432x288 with 2 Axes>"
            ],
            "image/png": "[encoded data removed]"
          },
          "metadata": {
            "needs_background": "light"
          }
        },
        {
          "output_type": "display_data",
          "data": {
            "text/plain": [
              "<Figure size 432x288 with 2 Axes>"
            ],
            "image/png": "[encoded data removed]"
          },
          "metadata": {
            "needs_background": "light"
          }
        },
        {
          "output_type": "display_data",
          "data": {
            "text/plain": [
              "<Figure size 432x288 with 2 Axes>"
            ],
            "image/png": "[encoded data removed]"
          },
          "metadata": {
            "needs_background": "light"
          }
        },
        {
          "output_type": "display_data",
          "data": {
            "text/plain": [
              "<Figure size 432x288 with 2 Axes>"
            ],
            "image/png": "[encoded data removed]"
          },
          "metadata": {
            "needs_background": "light"
          }
        },
        {
          "output_type": "display_data",
          "data": {
            "text/plain": [
              "<Figure size 432x288 with 2 Axes>"
            ],
            "image/png": "[encoded data removed]"
          },
          "metadata": {
            "needs_background": "light"
          }
        }
      ]
    },
    {
      "cell_type": "markdown",
      "source": [
        "Verificamos con nuevas instancias"
      ],
      "metadata": {
        "id": "eWCSWgEaaa36"
      }
    },
    {
      "cell_type": "code",
      "source": [
        "test_img = [cv.imread('test/test1.png'), cv.imread('test/test2.png'), cv.imread('test/test3.png'), cv.imread('test/test4.png'),\n",
        "            cv.imread('test/test5.png'), cv.imread('test/test6.png'), cv.imread('test/test7.png'), cv.imread('test/test8.png'),\n",
        "            cv.imread('test/test9.png'), cv.imread('test/test10.png'), cv.imread('test/test11.png'), cv.imread('test/test12.png'),\n",
        "            cv.imread('test/test13.png'), cv.imread('test/test14.png'), cv.imread('test/test15.png'), cv.imread('test/test16.png')]\n",
        "\n",
        "test_flat = [img_to_flat(img) for img in test_img]\n",
        "historics = [NN.evaluate(fi) for fi in test_flat]\n",
        "\n",
        "for hi in historics:\n",
        "  plot_historic(hi,12, 10)"
      ],
      "metadata": {
        "id": "V9alTBTRac8P",
        "outputId": "e1cd7607-9230-4de1-d076-41ff488718a5",
        "colab": {
          "base_uri": "https://localhost:8080/",
          "height": 1000
        }
      },
      "execution_count": 6,
      "outputs": [
        {
          "output_type": "display_data",
          "data": {
            "text/plain": [
              "<Figure size 432x288 with 3 Axes>"
            ],
            "image/png": "[encoded data removed]"
          },
          "metadata": {
            "needs_background": "light"
          }
        },
        {
          "output_type": "display_data",
          "data": {
            "text/plain": [
              "<Figure size 432x288 with 6 Axes>"
            ],
            "image/png": "[encoded data removed]"
          },
          "metadata": {
            "needs_background": "light"
          }
        },
        {
          "output_type": "display_data",
          "data": {
            "text/plain": [
              "<Figure size 432x288 with 5 Axes>"
            ],
            "image/png": "[encoded data removed]"
          },
          "metadata": {
            "needs_background": "light"
          }
        },
        {
          "output_type": "display_data",
          "data": {
            "text/plain": [
              "<Figure size 432x288 with 5 Axes>"
            ],
            "image/png": "[encoded data removed]"
          },
          "metadata": {
            "needs_background": "light"
          }
        },
        {
          "output_type": "display_data",
          "data": {
            "text/plain": [
              "<Figure size 432x288 with 12 Axes>"
            ],
            "image/png": "[encoded data removed]"
          },
          "metadata": {
            "needs_background": "light"
          }
        },
        {
          "output_type": "display_data",
          "data": {
            "text/plain": [
              "<Figure size 432x288 with 5 Axes>"
            ],
            "image/png": "[encoded data removed]"
          },
          "metadata": {
            "needs_background": "light"
          }
        },
        {
          "output_type": "display_data",
          "data": {
            "text/plain": [
              "<Figure size 432x288 with 5 Axes>"
            ],
            "image/png": "[encoded data removed]"
          },
          "metadata": {
            "needs_background": "light"
          }
        },
        {
          "output_type": "display_data",
          "data": {
            "text/plain": [
              "<Figure size 432x288 with 4 Axes>"
            ],
            "image/png": "[encoded data removed]"
          },
          "metadata": {
            "needs_background": "light"
          }
        },
        {
          "output_type": "display_data",
          "data": {
            "text/plain": [
              "<Figure size 432x288 with 5 Axes>"
            ],
            "image/png": "[encoded data removed]"
          },
          "metadata": {
            "needs_background": "light"
          }
        },
        {
          "output_type": "display_data",
          "data": {
            "text/plain": [
              "<Figure size 432x288 with 5 Axes>"
            ],
            "image/png": "[encoded data removed]"
          },
          "metadata": {
            "needs_background": "light"
          }
        },
        {
          "output_type": "display_data",
          "data": {
            "text/plain": [
              "<Figure size 432x288 with 4 Axes>"
            ],
            "image/png": "[encoded data removed]"
          },
          "metadata": {
            "needs_background": "light"
          }
        },
        {
          "output_type": "display_data",
          "data": {
            "text/plain": [
              "<Figure size 432x288 with 5 Axes>"
            ],
            "image/png": "[encoded data removed]"
          },
          "metadata": {
            "needs_background": "light"
          }
        },
        {
          "output_type": "display_data",
          "data": {
            "text/plain": [
              "<Figure size 432x288 with 4 Axes>"
            ],
            "image/png": "[encoded data removed]"
          },
          "metadata": {
            "needs_background": "light"
          }
        },
        {
          "output_type": "display_data",
          "data": {
            "text/plain": [
              "<Figure size 432x288 with 5 Axes>"
            ],
            "image/png": "[encoded data removed]"
          },
          "metadata": {
            "needs_background": "light"
          }
        },
        {
          "output_type": "display_data",
          "data": {
            "text/plain": [
              "<Figure size 432x288 with 6 Axes>"
            ],
            "image/png": "[encoded data removed]"
          },
          "metadata": {
            "needs_background": "light"
          }
        },
        {
          "output_type": "display_data",
          "data": {
            "text/plain": [
              "<Figure size 432x288 with 6 Axes>"
            ],
            "image/png": "[encoded data removed]"
          },
          "metadata": {
            "needs_background": "light"
          }
        }
      ]
    },
    {
      "cell_type": "markdown",
      "source": [
        "A continuacion se implementa una funcion con la cual, una vez este entrenada la red, un usuario puede ingresar una imagen de $10\\times 12$ pixeles y obtendra los estados previos a la convergencia de la red:"
      ],
      "metadata": {
        "id": "o6OWbdKCqGpC"
      }
    },
    {
      "cell_type": "code",
      "source": [
        "# funcion para el uso de cualquier usuario\n",
        "def evaluar(img_path):\n",
        "  img = cv.imread(img_path)\n",
        "  flat = img_to_flat(img)\n",
        "  historic = NN.evaluate(flat)\n",
        "  plot_historic(historic, 12, 10)\n",
        "\n",
        "# ejemplo de uso\n",
        "evaluar('test/test2.png')\n"
      ],
      "metadata": {
        "colab": {
          "base_uri": "https://localhost:8080/",
          "height": 92
        },
        "id": "NNhIAdDyqGMl",
        "outputId": "957ffa24-47a8-417d-a8d4-aa362f8463e8"
      },
      "execution_count": 7,
      "outputs": [
        {
          "output_type": "display_data",
          "data": {
            "text/plain": [
              "<Figure size 432x288 with 6 Axes>"
            ],
            "image/png": "[encoded data removed]"
          },
          "metadata": {
            "needs_background": "light"
          }
        }
      ]
    }
  ]
}